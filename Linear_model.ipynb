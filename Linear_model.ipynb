{
  "nbformat": 4,
  "nbformat_minor": 0,
  "metadata": {
    "colab": {
      "name": "Linear_model.ipynb",
      "version": "0.3.2",
      "provenance": [],
      "include_colab_link": true
    },
    "kernelspec": {
      "name": "python3",
      "display_name": "Python 3"
    },
    "accelerator": "GPU"
  },
  "cells": [
    {
      "cell_type": "markdown",
      "metadata": {
        "id": "view-in-github",
        "colab_type": "text"
      },
      "source": [
        "<a href=\"https://colab.research.google.com/github/Prajwalrajm/MSc-Project-ML-Regression-Model/blob/master/Linear_model.ipynb\" target=\"_parent\"><img src=\"https://colab.research.google.com/assets/colab-badge.svg\" alt=\"Open In Colab\"/></a>"
      ]
    },
    {
      "cell_type": "markdown",
      "metadata": {
        "id": "Py6mbyie0rRq",
        "colab_type": "text"
      },
      "source": [
        "**Importing Pandas Library**"
      ]
    },
    {
      "cell_type": "code",
      "metadata": {
        "id": "54jJZ7ZNB4eA",
        "colab_type": "code",
        "colab": {}
      },
      "source": [
        "import pandas as pd"
      ],
      "execution_count": 0,
      "outputs": []
    },
    {
      "cell_type": "markdown",
      "metadata": {
        "id": "FhtoBC6Z02x3",
        "colab_type": "text"
      },
      "source": [
        "**Mounting Google Drive to access data**"
      ]
    },
    {
      "cell_type": "code",
      "metadata": {
        "id": "OH3F9zAPCmYV",
        "colab_type": "code",
        "colab": {
          "base_uri": "https://localhost:8080/",
          "height": 121
        },
        "outputId": "5bc1ec7d-e7fc-4d17-a14d-088dd2f663d2"
      },
      "source": [
        "from google.colab import drive\n",
        "drive.mount('/content/drive')"
      ],
      "execution_count": 1,
      "outputs": [
        {
          "output_type": "stream",
          "text": [
            "Go to this URL in a browser: https://accounts.google.com/o/oauth2/auth?client_id=947318989803-6bn6qk8qdgf4n4g3pfee6491hc0brc4i.apps.googleusercontent.com&redirect_uri=urn%3Aietf%3Awg%3Aoauth%3A2.0%3Aoob&scope=email%20https%3A%2F%2Fwww.googleapis.com%2Fauth%2Fdocs.test%20https%3A%2F%2Fwww.googleapis.com%2Fauth%2Fdrive%20https%3A%2F%2Fwww.googleapis.com%2Fauth%2Fdrive.photos.readonly%20https%3A%2F%2Fwww.googleapis.com%2Fauth%2Fpeopleapi.readonly&response_type=code\n",
            "\n",
            "Enter your authorization code:\n",
            "··········\n",
            "Mounted at /content/drive\n"
          ],
          "name": "stdout"
        }
      ]
    },
    {
      "cell_type": "markdown",
      "metadata": {
        "id": "zX_BcekN1Bgy",
        "colab_type": "text"
      },
      "source": [
        "**Read data from Drive**"
      ]
    },
    {
      "cell_type": "code",
      "metadata": {
        "id": "X8loDNdxCmkW",
        "colab_type": "code",
        "colab": {}
      },
      "source": [
        "Linear =pd.read_csv('/content/drive/My Drive/Colab Notebooks/Mileage_data.csv')\n"
      ],
      "execution_count": 0,
      "outputs": []
    },
    {
      "cell_type": "markdown",
      "metadata": {
        "id": "306K1UL81G7p",
        "colab_type": "text"
      },
      "source": [
        "**Converting Categorical values in 'One Hot Encoding'**"
      ]
    },
    {
      "cell_type": "code",
      "metadata": {
        "id": "XYoaw3W9DZ4d",
        "colab_type": "code",
        "colab": {}
      },
      "source": [
        "Linear_onehot = pd.get_dummies(Linear)"
      ],
      "execution_count": 0,
      "outputs": []
    },
    {
      "cell_type": "code",
      "metadata": {
        "id": "JdG8dlB0s5Ud",
        "colab_type": "code",
        "colab": {
          "base_uri": "https://localhost:8080/",
          "height": 118
        },
        "outputId": "5f11d68d-a31b-4e76-86b2-cd7e7bbbeccf"
      },
      "source": [
        "Linear_onehot.columns"
      ],
      "execution_count": 18,
      "outputs": [
        {
          "output_type": "execute_result",
          "data": {
            "text/plain": [
              "Index(['TIS', 'Model_year', 'mileage', 'model_line_C/2D', 'model_line_C/2H',\n",
              "       'model_line_C/2R', 'model_line_C/2Z', 'model_line_C/4N',\n",
              "       'model_line_T/3A', 'model_line_T/3B', 'model_line_T/3D',\n",
              "       'model_line_T/4A', 'model_line_T/LH', 'model_line_T/LK',\n",
              "       'model_line_T/LS', 'model_line_T/LX'],\n",
              "      dtype='object')"
            ]
          },
          "metadata": {
            "tags": []
          },
          "execution_count": 18
        }
      ]
    },
    {
      "cell_type": "markdown",
      "metadata": {
        "id": "WO9GbSAd1fvS",
        "colab_type": "text"
      },
      "source": [
        "**Creating X and Y co-efficient**"
      ]
    },
    {
      "cell_type": "code",
      "metadata": {
        "id": "qow5E5bnDiKw",
        "colab_type": "code",
        "colab": {}
      },
      "source": [
        "X = Linear_onehot[['TIS', 'Model_year', 'model_line_C/2D', 'model_line_C/2H',\n",
        "       'model_line_C/2R', 'model_line_C/2Z', 'model_line_C/4N',\n",
        "       'model_line_T/3A', 'model_line_T/3B', 'model_line_T/3D',\n",
        "       'model_line_T/4A', 'model_line_T/LH', 'model_line_T/LK',\n",
        "       'model_line_T/LS', 'model_line_T/LX']].values\n",
        "y = Linear_onehot['mileage'].values"
      ],
      "execution_count": 0,
      "outputs": []
    },
    {
      "cell_type": "markdown",
      "metadata": {
        "id": "bxhvdbId1mwo",
        "colab_type": "text"
      },
      "source": [
        "**Splitting dataset into train and test sets**"
      ]
    },
    {
      "cell_type": "code",
      "metadata": {
        "id": "vgfZhIcrD5ku",
        "colab_type": "code",
        "colab": {}
      },
      "source": [
        "from sklearn.model_selection import train_test_split \n",
        "X_train, X_test, y_train, y_test = train_test_split(X, y, test_size=0.2, random_state=0)"
      ],
      "execution_count": 0,
      "outputs": []
    },
    {
      "cell_type": "markdown",
      "metadata": {
        "id": "Lm-_-kcC1qgc",
        "colab_type": "text"
      },
      "source": [
        "**Model Sectiona and Fit**"
      ]
    },
    {
      "cell_type": "code",
      "metadata": {
        "id": "1743ktX4tLKy",
        "colab_type": "code",
        "colab": {
          "base_uri": "https://localhost:8080/",
          "height": 34
        },
        "outputId": "eb222022-1ff0-4c76-abe8-851a218e3cfa"
      },
      "source": [
        "#importing Linear Regression model\n",
        "from sklearn.linear_model import LinearRegression\n",
        "Linearmodel = LinearRegression()\n",
        "Linearmodel.fit(X_train,y_train)\n"
      ],
      "execution_count": 13,
      "outputs": [
        {
          "output_type": "execute_result",
          "data": {
            "text/plain": [
              "LinearRegression(copy_X=True, fit_intercept=True, n_jobs=None, normalize=False)"
            ]
          },
          "metadata": {
            "tags": []
          },
          "execution_count": 13
        }
      ]
    },
    {
      "cell_type": "markdown",
      "metadata": {
        "id": "Hxvw3N_a1yPl",
        "colab_type": "text"
      },
      "source": [
        "**Prediction**"
      ]
    },
    {
      "cell_type": "code",
      "metadata": {
        "id": "r_6pT0EqE6Sm",
        "colab_type": "code",
        "colab": {}
      },
      "source": [
        "y_pred_linear = Linearmodel.predict(X_test)"
      ],
      "execution_count": 0,
      "outputs": []
    },
    {
      "cell_type": "markdown",
      "metadata": {
        "id": "SZS9_rfQ14_a",
        "colab_type": "text"
      },
      "source": [
        "**Calculating 'Root Mean squeared Error'**"
      ]
    },
    {
      "cell_type": "code",
      "metadata": {
        "id": "jpXEdLqlFVdr",
        "colab_type": "code",
        "colab": {
          "base_uri": "https://localhost:8080/",
          "height": 34
        },
        "outputId": "9f614eb1-26d0-42e6-b14c-863ebcbddbcb"
      },
      "source": [
        "import numpy as np\n",
        "from sklearn.metrics import mean_squared_error\n",
        "mse = mean_squared_error(y_test, y_pred_linear)\n",
        "rmse = np.sqrt(mse)\n",
        "\n",
        "print(rmse)"
      ],
      "execution_count": 16,
      "outputs": [
        {
          "output_type": "stream",
          "text": [
            "5024.105915863742\n"
          ],
          "name": "stdout"
        }
      ]
    },
    {
      "cell_type": "markdown",
      "metadata": {
        "id": "-29EAZSc2DiS",
        "colab_type": "text"
      },
      "source": [
        "**Created data set with actual and predicted value**"
      ]
    },
    {
      "cell_type": "code",
      "metadata": {
        "id": "p44AOA3QFGJ7",
        "colab_type": "code",
        "colab": {}
      },
      "source": [
        "compare_linear = pd.DataFrame({'Actual': y_test, 'Predicted': y_pred_linear})"
      ],
      "execution_count": 0,
      "outputs": []
    },
    {
      "cell_type": "code",
      "metadata": {
        "id": "5THQlbZ5t1i6",
        "colab_type": "code",
        "colab": {
          "base_uri": "https://localhost:8080/",
          "height": 343
        },
        "outputId": "f3d7cffb-6286-47b1-8f9c-4e2f463e1f4a"
      },
      "source": [
        "compare_linear.head(10)"
      ],
      "execution_count": 17,
      "outputs": [
        {
          "output_type": "execute_result",
          "data": {
            "text/html": [
              "<div>\n",
              "<style scoped>\n",
              "    .dataframe tbody tr th:only-of-type {\n",
              "        vertical-align: middle;\n",
              "    }\n",
              "\n",
              "    .dataframe tbody tr th {\n",
              "        vertical-align: top;\n",
              "    }\n",
              "\n",
              "    .dataframe thead th {\n",
              "        text-align: right;\n",
              "    }\n",
              "</style>\n",
              "<table border=\"1\" class=\"dataframe\">\n",
              "  <thead>\n",
              "    <tr style=\"text-align: right;\">\n",
              "      <th></th>\n",
              "      <th>Actual</th>\n",
              "      <th>Predicted</th>\n",
              "    </tr>\n",
              "  </thead>\n",
              "  <tbody>\n",
              "    <tr>\n",
              "      <th>0</th>\n",
              "      <td>10398</td>\n",
              "      <td>9924.145805</td>\n",
              "    </tr>\n",
              "    <tr>\n",
              "      <th>1</th>\n",
              "      <td>17445</td>\n",
              "      <td>16417.970291</td>\n",
              "    </tr>\n",
              "    <tr>\n",
              "      <th>2</th>\n",
              "      <td>31471</td>\n",
              "      <td>38823.670448</td>\n",
              "    </tr>\n",
              "    <tr>\n",
              "      <th>3</th>\n",
              "      <td>19994</td>\n",
              "      <td>28782.500957</td>\n",
              "    </tr>\n",
              "    <tr>\n",
              "      <th>4</th>\n",
              "      <td>25977</td>\n",
              "      <td>29323.688656</td>\n",
              "    </tr>\n",
              "    <tr>\n",
              "      <th>5</th>\n",
              "      <td>24761</td>\n",
              "      <td>23759.371216</td>\n",
              "    </tr>\n",
              "    <tr>\n",
              "      <th>6</th>\n",
              "      <td>11249</td>\n",
              "      <td>13343.834239</td>\n",
              "    </tr>\n",
              "    <tr>\n",
              "      <th>7</th>\n",
              "      <td>26130</td>\n",
              "      <td>29923.908715</td>\n",
              "    </tr>\n",
              "    <tr>\n",
              "      <th>8</th>\n",
              "      <td>1090</td>\n",
              "      <td>3134.146172</td>\n",
              "    </tr>\n",
              "    <tr>\n",
              "      <th>9</th>\n",
              "      <td>4030</td>\n",
              "      <td>5283.573671</td>\n",
              "    </tr>\n",
              "  </tbody>\n",
              "</table>\n",
              "</div>"
            ],
            "text/plain": [
              "   Actual     Predicted\n",
              "0   10398   9924.145805\n",
              "1   17445  16417.970291\n",
              "2   31471  38823.670448\n",
              "3   19994  28782.500957\n",
              "4   25977  29323.688656\n",
              "5   24761  23759.371216\n",
              "6   11249  13343.834239\n",
              "7   26130  29923.908715\n",
              "8    1090   3134.146172\n",
              "9    4030   5283.573671"
            ]
          },
          "metadata": {
            "tags": []
          },
          "execution_count": 17
        }
      ]
    }
  ]
}