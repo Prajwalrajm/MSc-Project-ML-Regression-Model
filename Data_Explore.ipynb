{
 "cells": [
  {
   "cell_type": "code",
   "execution_count": 19,
   "metadata": {},
   "outputs": [
    {
     "data": {
      "text/plain": [
       "(3947484, 8)"
      ]
     },
     "execution_count": 19,
     "metadata": {},
     "output_type": "execute_result"
    }
   ],
   "source": [
    "vehicle_data.shape"
   ]
  },
  {
   "cell_type": "code",
   "execution_count": 21,
   "metadata": {},
   "outputs": [
    {
     "data": {
      "text/plain": [
       "Month_IN_SERVICE        int64\n",
       "V_MODEL_YEAR_CODE       int64\n",
       "V_VML_CODE             object\n",
       "V_TRANSMISSION_CODE    object\n",
       "V_ENGINE_CODE          object\n",
       "V_BODY_STYLE_CODE      object\n",
       "V_DRIVE_CODE           object\n",
       "I_MILEAGE               int64\n",
       "dtype: object"
      ]
     },
     "execution_count": 21,
     "metadata": {},
     "output_type": "execute_result"
    }
   ],
   "source": [
    "vehicle_data.dtypes"
   ]
  },
  {
   "cell_type": "code",
   "execution_count": 22,
   "metadata": {},
   "outputs": [
    {
     "data": {
      "text/html": [
       "<div>\n",
       "<style scoped>\n",
       "    .dataframe tbody tr th:only-of-type {\n",
       "        vertical-align: middle;\n",
       "    }\n",
       "\n",
       "    .dataframe tbody tr th {\n",
       "        vertical-align: top;\n",
       "    }\n",
       "\n",
       "    .dataframe thead th {\n",
       "        text-align: right;\n",
       "    }\n",
       "</style>\n",
       "<table border=\"1\" class=\"dataframe\">\n",
       "  <thead>\n",
       "    <tr style=\"text-align: right;\">\n",
       "      <th></th>\n",
       "      <th>vehicle_data</th>\n",
       "    </tr>\n",
       "  </thead>\n",
       "  <tbody>\n",
       "  </tbody>\n",
       "</table>\n",
       "</div>"
      ],
      "text/plain": [
       "Empty DataFrame\n",
       "Columns: [vehicle_data]\n",
       "Index: []"
      ]
     },
     "execution_count": 22,
     "metadata": {},
     "output_type": "execute_result"
    }
   ],
   "source": [
    "#Finiding Missing values in the dataset\n",
    "\n",
    "missing_numeric = pd.concat([data.isnull().sum()], axis=1, keys=['vehicle_data'])\n",
    "missing_numeric = missing_numeric[(missing_numeric['vehicle_data']>0)]\n",
    "missing_numeric.sort_values(by=['vehicle_data'], ascending=False)"
   ]
  },
  {
   "cell_type": "code",
   "execution_count": 30,
   "metadata": {},
   "outputs": [
    {
     "data": {
      "text/html": [
       "<div>\n",
       "<style scoped>\n",
       "    .dataframe tbody tr th:only-of-type {\n",
       "        vertical-align: middle;\n",
       "    }\n",
       "\n",
       "    .dataframe tbody tr th {\n",
       "        vertical-align: top;\n",
       "    }\n",
       "\n",
       "    .dataframe thead th {\n",
       "        text-align: right;\n",
       "    }\n",
       "</style>\n",
       "<table border=\"1\" class=\"dataframe\">\n",
       "  <thead>\n",
       "    <tr style=\"text-align: right;\">\n",
       "      <th></th>\n",
       "      <th>V_VML_CODE</th>\n",
       "      <th>V_TRANSMISSION_CODE</th>\n",
       "      <th>V_ENGINE_CODE</th>\n",
       "      <th>V_BODY_STYLE_CODE</th>\n",
       "      <th>V_DRIVE_CODE</th>\n",
       "    </tr>\n",
       "  </thead>\n",
       "  <tbody>\n",
       "    <tr>\n",
       "      <th>count</th>\n",
       "      <td>3947484</td>\n",
       "      <td>3947484</td>\n",
       "      <td>3947484</td>\n",
       "      <td>3947484</td>\n",
       "      <td>3947484</td>\n",
       "    </tr>\n",
       "    <tr>\n",
       "      <th>unique</th>\n",
       "      <td>17</td>\n",
       "      <td>9</td>\n",
       "      <td>9</td>\n",
       "      <td>7</td>\n",
       "      <td>2</td>\n",
       "    </tr>\n",
       "    <tr>\n",
       "      <th>top</th>\n",
       "      <td>T/LH</td>\n",
       "      <td>EG</td>\n",
       "      <td>UQ</td>\n",
       "      <td>ES</td>\n",
       "      <td>ALL</td>\n",
       "    </tr>\n",
       "    <tr>\n",
       "      <th>freq</th>\n",
       "      <td>701226</td>\n",
       "      <td>1540215</td>\n",
       "      <td>1013253</td>\n",
       "      <td>1666374</td>\n",
       "      <td>3304432</td>\n",
       "    </tr>\n",
       "  </tbody>\n",
       "</table>\n",
       "</div>"
      ],
      "text/plain": [
       "       V_VML_CODE V_TRANSMISSION_CODE V_ENGINE_CODE V_BODY_STYLE_CODE  \\\n",
       "count     3947484             3947484       3947484           3947484   \n",
       "unique         17                   9             9                 7   \n",
       "top          T/LH                  EG            UQ                ES   \n",
       "freq       701226             1540215       1013253           1666374   \n",
       "\n",
       "       V_DRIVE_CODE  \n",
       "count       3947484  \n",
       "unique            2  \n",
       "top             ALL  \n",
       "freq        3304432  "
      ]
     },
     "execution_count": 30,
     "metadata": {},
     "output_type": "execute_result"
    }
   ],
   "source": [
    "#Finding number of classes in category variables\n",
    "\n",
    "vehicle_data.select_dtypes(include=[object]).describe()\n"
   ]
  },
  {
   "cell_type": "code",
   "execution_count": 62,
   "metadata": {},
   "outputs": [
    {
     "data": {
      "image/png": "[encoded data removed]",
      "text/plain": [
       "<Figure size 864x720 with 2 Axes>"
      ]
     },
     "metadata": {
      "needs_background": "light"
     },
     "output_type": "display_data"
    }
   ],
   "source": [
    "#Understanding coorelation between numeric lables \n",
    "import matplotlib.pyplot as plt\n",
    "import seaborn as sns\n",
    "\n",
    "plt.figure(figsize=(12,10))\n",
    "cor = vehicle_data.corr()\n",
    "sns.heatmap(cor, annot=True, cmap=plt.cm.Reds)\n",
    "plt.show()"
   ]
  },
  {
   "cell_type": "code",
   "execution_count": 41,
   "metadata": {},
   "outputs": [
    {
     "data": {
      "image/png": "[encoded data removed]",
      "text/plain": [
       "<Figure size 432x288 with 1 Axes>"
      ]
     },
     "metadata": {
      "needs_background": "light"
     },
     "output_type": "display_data"
    }
   ],
   "source": [
    "#Scatter plot to understand the relationship between Month_IN_SERVICE and I_MILEAGE\n",
    "plt.scatter(vehicle_data['Month_IN_SERVICE'], vehicle_data['I_MILEAGE'])\n",
    "plt.show()"
   ]
  },
  {
   "cell_type": "code",
   "execution_count": 44,
   "metadata": {},
   "outputs": [
    {
     "data": {
      "image/png": "[encoded data removed]",
      "text/plain": [
       "<Figure size 432x288 with 1 Axes>"
      ]
     },
     "metadata": {
      "needs_background": "light"
     },
     "output_type": "display_data"
    }
   ],
   "source": [
    "#Scatter plot to understand the relationship between V_MODEL_YEAR_CODE and I_MILEAGE\n",
    "plt.scatter(vehicle_data['V_MODEL_YEAR_CODE'], vehicle_data['I_MILEAGE'])\n",
    "plt.show()"
   ]
  },
  {
   "cell_type": "code",
   "execution_count": 47,
   "metadata": {},
   "outputs": [
    {
     "data": {
      "text/plain": [
       "<matplotlib.axes._subplots.AxesSubplot at 0x18826a2ecf8>"
      ]
     },
     "execution_count": 47,
     "metadata": {},
     "output_type": "execute_result"
    },
    {
     "data": {
      "image/png": "[encoded data removed]",
      "text/plain": [
       "<Figure size 432x288 with 1 Axes>"
      ]
     },
     "metadata": {
      "needs_background": "light"
     },
     "output_type": "display_data"
    }
   ],
   "source": [
    "#Bar chart to understand the distribusion of V_MODEL_YEAR_CODE \n",
    "Modelyear = pd.crosstab(index = data['V_MODEL_YEAR_CODE'],columns=\"count\")\n",
    "Modelyear.plot.bar()"
   ]
  },
  {
   "cell_type": "code",
   "execution_count": 49,
   "metadata": {},
   "outputs": [
    {
     "data": {
      "text/plain": [
       "<matplotlib.axes._subplots.AxesSubplot at 0x188267db438>"
      ]
     },
     "execution_count": 49,
     "metadata": {},
     "output_type": "execute_result"
    },
    {
     "data": {
      "image/png": "[encoded data removed]",
      "text/plain": [
       "<Figure size 432x288 with 1 Axes>"
      ]
     },
     "metadata": {
      "needs_background": "light"
     },
     "output_type": "display_data"
    }
   ],
   "source": [
    "#Bar chart to understand the distribusion of V_VML_CODE \n",
    "modelline = pd.crosstab(index = data['V_VML_CODE'],columns=\"count\")\n",
    "modelline.plot.bar()"
   ]
  },
  {
   "cell_type": "code",
   "execution_count": 51,
   "metadata": {},
   "outputs": [
    {
     "data": {
      "text/plain": [
       "<matplotlib.axes._subplots.AxesSubplot at 0x18826852550>"
      ]
     },
     "execution_count": 51,
     "metadata": {},
     "output_type": "execute_result"
    },
    {
     "data": {
      "image/png": "[encoded data removed]",
      "text/plain": [
       "<Figure size 432x288 with 1 Axes>"
      ]
     },
     "metadata": {
      "needs_background": "light"
     },
     "output_type": "display_data"
    }
   ],
   "source": [
    "#Bar chart to understand the distribusion of V_TRANSMISSION_CODE \n",
    "trans_code = pd.crosstab(index = data['V_TRANSMISSION_CODE'],columns=\"count\")\n",
    "trans_code.plot.bar()"
   ]
  },
  {
   "cell_type": "code",
   "execution_count": 52,
   "metadata": {},
   "outputs": [
    {
     "data": {
      "text/plain": [
       "<matplotlib.axes._subplots.AxesSubplot at 0x188268a4fd0>"
      ]
     },
     "execution_count": 52,
     "metadata": {},
     "output_type": "execute_result"
    },
    {
     "data": {
      "image/png": "[encoded data removed]",
      "text/plain": [
       "<Figure size 432x288 with 1 Axes>"
      ]
     },
     "metadata": {
      "needs_background": "light"
     },
     "output_type": "display_data"
    }
   ],
   "source": [
    "#Bar chart to understand the distribusion of V_ENGINE_CODE\n",
    "Engine_code = pd.crosstab(index = data['V_ENGINE_CODE'],columns=\"count\")\n",
    "Engine_code.plot.bar()"
   ]
  },
  {
   "cell_type": "code",
   "execution_count": 53,
   "metadata": {},
   "outputs": [
    {
     "data": {
      "text/plain": [
       "<matplotlib.axes._subplots.AxesSubplot at 0x18826927710>"
      ]
     },
     "execution_count": 53,
     "metadata": {},
     "output_type": "execute_result"
    },
    {
     "data": {
      "image/png": "[encoded data removed]",
      "text/plain": [
       "<Figure size 432x288 with 1 Axes>"
      ]
     },
     "metadata": {
      "needs_background": "light"
     },
     "output_type": "display_data"
    }
   ],
   "source": [
    "#Bar chart to understand the distribusion of V_BODY_STYLE_CODE\n",
    "body_code = pd.crosstab(index = data['V_BODY_STYLE_CODE'],columns=\"count\")\n",
    "body_code.plot.bar()"
   ]
  },
  {
   "cell_type": "code",
   "execution_count": 55,
   "metadata": {},
   "outputs": [
    {
     "data": {
      "text/html": [
       "<div>\n",
       "<style scoped>\n",
       "    .dataframe tbody tr th:only-of-type {\n",
       "        vertical-align: middle;\n",
       "    }\n",
       "\n",
       "    .dataframe tbody tr th {\n",
       "        vertical-align: top;\n",
       "    }\n",
       "\n",
       "    .dataframe thead th {\n",
       "        text-align: right;\n",
       "    }\n",
       "</style>\n",
       "<table border=\"1\" class=\"dataframe\">\n",
       "  <thead>\n",
       "    <tr style=\"text-align: right;\">\n",
       "      <th>V_ENGINE_CODE</th>\n",
       "      <th>KN</th>\n",
       "      <th>M4</th>\n",
       "      <th>Q1</th>\n",
       "      <th>RX</th>\n",
       "      <th>RY</th>\n",
       "      <th>S8</th>\n",
       "      <th>SU</th>\n",
       "      <th>UQ</th>\n",
       "      <th>ZT</th>\n",
       "    </tr>\n",
       "    <tr>\n",
       "      <th>V_VML_CODE</th>\n",
       "      <th></th>\n",
       "      <th></th>\n",
       "      <th></th>\n",
       "      <th></th>\n",
       "      <th></th>\n",
       "      <th></th>\n",
       "      <th></th>\n",
       "      <th></th>\n",
       "      <th></th>\n",
       "    </tr>\n",
       "  </thead>\n",
       "  <tbody>\n",
       "    <tr>\n",
       "      <th>C/2D</th>\n",
       "      <td>0</td>\n",
       "      <td>25888</td>\n",
       "      <td>0</td>\n",
       "      <td>40478</td>\n",
       "      <td>23149</td>\n",
       "      <td>0</td>\n",
       "      <td>19775</td>\n",
       "      <td>107475</td>\n",
       "      <td>0</td>\n",
       "    </tr>\n",
       "    <tr>\n",
       "      <th>C/2H</th>\n",
       "      <td>0</td>\n",
       "      <td>10607</td>\n",
       "      <td>0</td>\n",
       "      <td>0</td>\n",
       "      <td>0</td>\n",
       "      <td>0</td>\n",
       "      <td>0</td>\n",
       "      <td>38979</td>\n",
       "      <td>16293</td>\n",
       "    </tr>\n",
       "    <tr>\n",
       "      <th>C/2P</th>\n",
       "      <td>0</td>\n",
       "      <td>0</td>\n",
       "      <td>0</td>\n",
       "      <td>13390</td>\n",
       "      <td>14834</td>\n",
       "      <td>0</td>\n",
       "      <td>0</td>\n",
       "      <td>0</td>\n",
       "      <td>0</td>\n",
       "    </tr>\n",
       "    <tr>\n",
       "      <th>C/2R</th>\n",
       "      <td>0</td>\n",
       "      <td>0</td>\n",
       "      <td>0</td>\n",
       "      <td>0</td>\n",
       "      <td>35387</td>\n",
       "      <td>0</td>\n",
       "      <td>0</td>\n",
       "      <td>68276</td>\n",
       "      <td>0</td>\n",
       "    </tr>\n",
       "    <tr>\n",
       "      <th>C/2Z</th>\n",
       "      <td>65009</td>\n",
       "      <td>80689</td>\n",
       "      <td>0</td>\n",
       "      <td>28167</td>\n",
       "      <td>10746</td>\n",
       "      <td>0</td>\n",
       "      <td>31256</td>\n",
       "      <td>59132</td>\n",
       "      <td>0</td>\n",
       "    </tr>\n",
       "    <tr>\n",
       "      <th>C/4N</th>\n",
       "      <td>0</td>\n",
       "      <td>50531</td>\n",
       "      <td>0</td>\n",
       "      <td>0</td>\n",
       "      <td>0</td>\n",
       "      <td>0</td>\n",
       "      <td>0</td>\n",
       "      <td>19794</td>\n",
       "      <td>0</td>\n",
       "    </tr>\n",
       "    <tr>\n",
       "      <th>T/3A</th>\n",
       "      <td>103552</td>\n",
       "      <td>126578</td>\n",
       "      <td>0</td>\n",
       "      <td>0</td>\n",
       "      <td>0</td>\n",
       "      <td>0</td>\n",
       "      <td>0</td>\n",
       "      <td>0</td>\n",
       "      <td>0</td>\n",
       "    </tr>\n",
       "    <tr>\n",
       "      <th>T/3B</th>\n",
       "      <td>0</td>\n",
       "      <td>0</td>\n",
       "      <td>0</td>\n",
       "      <td>0</td>\n",
       "      <td>0</td>\n",
       "      <td>0</td>\n",
       "      <td>0</td>\n",
       "      <td>34293</td>\n",
       "      <td>0</td>\n",
       "    </tr>\n",
       "    <tr>\n",
       "      <th>T/3D</th>\n",
       "      <td>0</td>\n",
       "      <td>0</td>\n",
       "      <td>0</td>\n",
       "      <td>0</td>\n",
       "      <td>0</td>\n",
       "      <td>0</td>\n",
       "      <td>0</td>\n",
       "      <td>44650</td>\n",
       "      <td>0</td>\n",
       "    </tr>\n",
       "    <tr>\n",
       "      <th>T/4A</th>\n",
       "      <td>0</td>\n",
       "      <td>8470</td>\n",
       "      <td>0</td>\n",
       "      <td>0</td>\n",
       "      <td>0</td>\n",
       "      <td>0</td>\n",
       "      <td>0</td>\n",
       "      <td>82640</td>\n",
       "      <td>0</td>\n",
       "    </tr>\n",
       "    <tr>\n",
       "      <th>T/LB</th>\n",
       "      <td>142022</td>\n",
       "      <td>94702</td>\n",
       "      <td>0</td>\n",
       "      <td>0</td>\n",
       "      <td>0</td>\n",
       "      <td>0</td>\n",
       "      <td>0</td>\n",
       "      <td>0</td>\n",
       "      <td>0</td>\n",
       "    </tr>\n",
       "    <tr>\n",
       "      <th>T/LH</th>\n",
       "      <td>316607</td>\n",
       "      <td>384614</td>\n",
       "      <td>0</td>\n",
       "      <td>0</td>\n",
       "      <td>0</td>\n",
       "      <td>0</td>\n",
       "      <td>0</td>\n",
       "      <td>5</td>\n",
       "      <td>0</td>\n",
       "    </tr>\n",
       "    <tr>\n",
       "      <th>T/LJ</th>\n",
       "      <td>0</td>\n",
       "      <td>0</td>\n",
       "      <td>0</td>\n",
       "      <td>20146</td>\n",
       "      <td>18302</td>\n",
       "      <td>18371</td>\n",
       "      <td>0</td>\n",
       "      <td>0</td>\n",
       "      <td>0</td>\n",
       "    </tr>\n",
       "    <tr>\n",
       "      <th>T/LK</th>\n",
       "      <td>0</td>\n",
       "      <td>0</td>\n",
       "      <td>0</td>\n",
       "      <td>39214</td>\n",
       "      <td>217769</td>\n",
       "      <td>168406</td>\n",
       "      <td>26655</td>\n",
       "      <td>140674</td>\n",
       "      <td>21326</td>\n",
       "    </tr>\n",
       "    <tr>\n",
       "      <th>T/LS</th>\n",
       "      <td>0</td>\n",
       "      <td>0</td>\n",
       "      <td>2127</td>\n",
       "      <td>53215</td>\n",
       "      <td>0</td>\n",
       "      <td>0</td>\n",
       "      <td>50890</td>\n",
       "      <td>129416</td>\n",
       "      <td>178227</td>\n",
       "    </tr>\n",
       "    <tr>\n",
       "      <th>T/LT</th>\n",
       "      <td>0</td>\n",
       "      <td>0</td>\n",
       "      <td>2</td>\n",
       "      <td>76021</td>\n",
       "      <td>36476</td>\n",
       "      <td>0</td>\n",
       "      <td>58183</td>\n",
       "      <td>0</td>\n",
       "      <td>0</td>\n",
       "    </tr>\n",
       "    <tr>\n",
       "      <th>T/LX</th>\n",
       "      <td>0</td>\n",
       "      <td>378</td>\n",
       "      <td>0</td>\n",
       "      <td>0</td>\n",
       "      <td>142907</td>\n",
       "      <td>32618</td>\n",
       "      <td>27116</td>\n",
       "      <td>287919</td>\n",
       "      <td>103138</td>\n",
       "    </tr>\n",
       "  </tbody>\n",
       "</table>\n",
       "</div>"
      ],
      "text/plain": [
       "V_ENGINE_CODE      KN      M4    Q1     RX      RY      S8     SU      UQ  \\\n",
       "V_VML_CODE                                                                  \n",
       "C/2D                0   25888     0  40478   23149       0  19775  107475   \n",
       "C/2H                0   10607     0      0       0       0      0   38979   \n",
       "C/2P                0       0     0  13390   14834       0      0       0   \n",
       "C/2R                0       0     0      0   35387       0      0   68276   \n",
       "C/2Z            65009   80689     0  28167   10746       0  31256   59132   \n",
       "C/4N                0   50531     0      0       0       0      0   19794   \n",
       "T/3A           103552  126578     0      0       0       0      0       0   \n",
       "T/3B                0       0     0      0       0       0      0   34293   \n",
       "T/3D                0       0     0      0       0       0      0   44650   \n",
       "T/4A                0    8470     0      0       0       0      0   82640   \n",
       "T/LB           142022   94702     0      0       0       0      0       0   \n",
       "T/LH           316607  384614     0      0       0       0      0       5   \n",
       "T/LJ                0       0     0  20146   18302   18371      0       0   \n",
       "T/LK                0       0     0  39214  217769  168406  26655  140674   \n",
       "T/LS                0       0  2127  53215       0       0  50890  129416   \n",
       "T/LT                0       0     2  76021   36476       0  58183       0   \n",
       "T/LX                0     378     0      0  142907   32618  27116  287919   \n",
       "\n",
       "V_ENGINE_CODE      ZT  \n",
       "V_VML_CODE             \n",
       "C/2D                0  \n",
       "C/2H            16293  \n",
       "C/2P                0  \n",
       "C/2R                0  \n",
       "C/2Z                0  \n",
       "C/4N                0  \n",
       "T/3A                0  \n",
       "T/3B                0  \n",
       "T/3D                0  \n",
       "T/4A                0  \n",
       "T/LB                0  \n",
       "T/LH                0  \n",
       "T/LJ                0  \n",
       "T/LK            21326  \n",
       "T/LS           178227  \n",
       "T/LT                0  \n",
       "T/LX           103138  "
      ]
     },
     "execution_count": 55,
     "metadata": {},
     "output_type": "execute_result"
    }
   ],
   "source": [
    "#Relation between two categorical variables  using two-way table\n",
    "cat_relation = pd.crosstab(index = data['V_VML_CODE'],columns=data['V_ENGINE_CODE'])\n",
    "cat_relation"
   ]
  },
  {
   "cell_type": "code",
   "execution_count": 58,
   "metadata": {},
   "outputs": [
    {
     "data": {
      "text/plain": [
       "<matplotlib.axes._subplots.AxesSubplot at 0x188269b4ac8>"
      ]
     },
     "execution_count": 58,
     "metadata": {},
     "output_type": "execute_result"
    },
    {
     "data": {
      "image/png": "[encoded data removed]",
      "text/plain": [
       "<Figure size 576x576 with 1 Axes>"
      ]
     },
     "metadata": {
      "needs_background": "light"
     },
     "output_type": "display_data"
    }
   ],
   "source": [
    "cat_relation.plot(kind ='bar', figsize=(8,8), stacked=True) "
   ]
  },
  {
   "cell_type": "code",
   "execution_count": 61,
   "metadata": {},
   "outputs": [
    {
     "data": {
      "text/html": [
       "<div>\n",
       "<style scoped>\n",
       "    .dataframe tbody tr th:only-of-type {\n",
       "        vertical-align: middle;\n",
       "    }\n",
       "\n",
       "    .dataframe tbody tr th {\n",
       "        vertical-align: top;\n",
       "    }\n",
       "\n",
       "    .dataframe thead th {\n",
       "        text-align: right;\n",
       "    }\n",
       "</style>\n",
       "<table border=\"1\" class=\"dataframe\">\n",
       "  <thead>\n",
       "    <tr style=\"text-align: right;\">\n",
       "      <th></th>\n",
       "      <th>Month_IN_SERVICE</th>\n",
       "      <th>V_MODEL_YEAR_CODE</th>\n",
       "      <th>I_MILEAGE</th>\n",
       "    </tr>\n",
       "  </thead>\n",
       "  <tbody>\n",
       "    <tr>\n",
       "      <th>Month_IN_SERVICE</th>\n",
       "      <td>1.000000</td>\n",
       "      <td>-0.965717</td>\n",
       "      <td>0.397054</td>\n",
       "    </tr>\n",
       "    <tr>\n",
       "      <th>V_MODEL_YEAR_CODE</th>\n",
       "      <td>-0.965717</td>\n",
       "      <td>1.000000</td>\n",
       "      <td>-0.395269</td>\n",
       "    </tr>\n",
       "    <tr>\n",
       "      <th>I_MILEAGE</th>\n",
       "      <td>0.397054</td>\n",
       "      <td>-0.395269</td>\n",
       "      <td>1.000000</td>\n",
       "    </tr>\n",
       "  </tbody>\n",
       "</table>\n",
       "</div>"
      ],
      "text/plain": [
       "                   Month_IN_SERVICE  V_MODEL_YEAR_CODE  I_MILEAGE\n",
       "Month_IN_SERVICE           1.000000          -0.965717   0.397054\n",
       "V_MODEL_YEAR_CODE         -0.965717           1.000000  -0.395269\n",
       "I_MILEAGE                  0.397054          -0.395269   1.000000"
      ]
     },
     "execution_count": 61,
     "metadata": {},
     "output_type": "execute_result"
    }
   ],
   "source": [
    "#highests correlation features towards predicting variable \n",
    "vehicle_data.corr(method = 'pearson')"
   ]
  },
  {
   "cell_type": "code",
   "execution_count": 63,
   "metadata": {},
   "outputs": [],
   "source": [
    "#changing object type into category type\n",
    "\n",
    "vehicle_data['V_VML_CODE'] = vehicle_data['V_VML_CODE'].astype('category')\n",
    "vehicle_data['V_ENGINE_CODE'] = vehicle_data['V_ENGINE_CODE'].astype('category')\n",
    "vehicle_data['V_TRANSMISSION_CODE'] = vehicle_data['V_TRANSMISSION_CODE'].astype('category')\n",
    "vehicle_data['V_BODY_STYLE_CODE'] = vehicle_data['V_BODY_STYLE_CODE'].astype('category')\n",
    "vehicle_data['V_DRIVE_CODE'] = vehicle_data['V_DRIVE_CODE'].astype('category')"
   ]
  },
  {
   "cell_type": "code",
   "execution_count": 64,
   "metadata": {},
   "outputs": [
    {
     "data": {
      "text/plain": [
       "Month_IN_SERVICE          int64\n",
       "V_MODEL_YEAR_CODE         int64\n",
       "V_VML_CODE             category\n",
       "V_TRANSMISSION_CODE    category\n",
       "V_ENGINE_CODE          category\n",
       "V_BODY_STYLE_CODE      category\n",
       "V_DRIVE_CODE           category\n",
       "I_MILEAGE                 int64\n",
       "dtype: object"
      ]
     },
     "execution_count": 64,
     "metadata": {},
     "output_type": "execute_result"
    }
   ],
   "source": [
    "vehicle_data.dtypes"
   ]
  },
  {
   "cell_type": "code",
   "execution_count": 66,
   "metadata": {},
   "outputs": [
    {
     "data": {
      "text/plain": [
       "Index(['V_VML_CODE', 'V_TRANSMISSION_CODE', 'V_ENGINE_CODE',\n",
       "       'V_BODY_STYLE_CODE', 'V_DRIVE_CODE'],\n",
       "      dtype='object')"
      ]
     },
     "execution_count": 66,
     "metadata": {},
     "output_type": "execute_result"
    }
   ],
   "source": [
    "#Getting Categorical calumns from data set\n",
    "cat_column = vehicle_data.select_dtypes({'category'}).columns\n",
    "cat_column"
   ]
  },
  {
   "cell_type": "code",
   "execution_count": 67,
   "metadata": {},
   "outputs": [],
   "source": [
    "#Changing Categorical variables in numericals variables \n",
    "#assigning numerical values to categories \n",
    "vehicle_data[cat_column]=vehicle_data[cat_column].apply(lambda x: x.cat.codes)"
   ]
  },
  {
   "cell_type": "code",
   "execution_count": 72,
   "metadata": {},
   "outputs": [
    {
     "data": {
      "text/html": [
       "<div>\n",
       "<style scoped>\n",
       "    .dataframe tbody tr th:only-of-type {\n",
       "        vertical-align: middle;\n",
       "    }\n",
       "\n",
       "    .dataframe tbody tr th {\n",
       "        vertical-align: top;\n",
       "    }\n",
       "\n",
       "    .dataframe thead th {\n",
       "        text-align: right;\n",
       "    }\n",
       "</style>\n",
       "<table border=\"1\" class=\"dataframe\">\n",
       "  <thead>\n",
       "    <tr style=\"text-align: right;\">\n",
       "      <th></th>\n",
       "      <th>Month_IN_SERVICE</th>\n",
       "      <th>V_MODEL_YEAR_CODE</th>\n",
       "      <th>V_VML_CODE</th>\n",
       "      <th>V_TRANSMISSION_CODE</th>\n",
       "      <th>V_ENGINE_CODE</th>\n",
       "      <th>V_BODY_STYLE_CODE</th>\n",
       "      <th>V_DRIVE_CODE</th>\n",
       "      <th>I_MILEAGE</th>\n",
       "    </tr>\n",
       "  </thead>\n",
       "  <tbody>\n",
       "    <tr>\n",
       "      <th>0</th>\n",
       "      <td>93</td>\n",
       "      <td>12</td>\n",
       "      <td>14</td>\n",
       "      <td>5</td>\n",
       "      <td>2</td>\n",
       "      <td>2</td>\n",
       "      <td>0</td>\n",
       "      <td>49057</td>\n",
       "    </tr>\n",
       "    <tr>\n",
       "      <th>1</th>\n",
       "      <td>90</td>\n",
       "      <td>12</td>\n",
       "      <td>14</td>\n",
       "      <td>5</td>\n",
       "      <td>2</td>\n",
       "      <td>2</td>\n",
       "      <td>0</td>\n",
       "      <td>32966</td>\n",
       "    </tr>\n",
       "    <tr>\n",
       "      <th>2</th>\n",
       "      <td>90</td>\n",
       "      <td>12</td>\n",
       "      <td>14</td>\n",
       "      <td>5</td>\n",
       "      <td>2</td>\n",
       "      <td>2</td>\n",
       "      <td>0</td>\n",
       "      <td>33835</td>\n",
       "    </tr>\n",
       "    <tr>\n",
       "      <th>3</th>\n",
       "      <td>93</td>\n",
       "      <td>11</td>\n",
       "      <td>14</td>\n",
       "      <td>5</td>\n",
       "      <td>2</td>\n",
       "      <td>2</td>\n",
       "      <td>0</td>\n",
       "      <td>45803</td>\n",
       "    </tr>\n",
       "    <tr>\n",
       "      <th>4</th>\n",
       "      <td>93</td>\n",
       "      <td>11</td>\n",
       "      <td>14</td>\n",
       "      <td>5</td>\n",
       "      <td>2</td>\n",
       "      <td>2</td>\n",
       "      <td>0</td>\n",
       "      <td>42122</td>\n",
       "    </tr>\n",
       "  </tbody>\n",
       "</table>\n",
       "</div>"
      ],
      "text/plain": [
       "   Month_IN_SERVICE  V_MODEL_YEAR_CODE  V_VML_CODE  V_TRANSMISSION_CODE  \\\n",
       "0                93                 12          14                    5   \n",
       "1                90                 12          14                    5   \n",
       "2                90                 12          14                    5   \n",
       "3                93                 11          14                    5   \n",
       "4                93                 11          14                    5   \n",
       "\n",
       "   V_ENGINE_CODE  V_BODY_STYLE_CODE  V_DRIVE_CODE  I_MILEAGE  \n",
       "0              2                  2             0      49057  \n",
       "1              2                  2             0      32966  \n",
       "2              2                  2             0      33835  \n",
       "3              2                  2             0      45803  \n",
       "4              2                  2             0      42122  "
      ]
     },
     "execution_count": 72,
     "metadata": {},
     "output_type": "execute_result"
    }
   ],
   "source": [
    "vehicle_data.head()"
   ]
  },
  {
   "cell_type": "code",
   "execution_count": 73,
   "metadata": {},
   "outputs": [
    {
     "data": {
      "image/png": "[encoded data removed]",
      "text/plain": [
       "<Figure size 864x720 with 2 Axes>"
      ]
     },
     "metadata": {
      "needs_background": "light"
     },
     "output_type": "display_data"
    }
   ],
   "source": [
    "#heat map to check relationship after converting categorical into numerical values \n",
    "plt.figure(figsize=(12,10))\n",
    "cor = vehicle_data.corr()\n",
    "sns.heatmap(cor, annot=True, cmap=plt.cm.Reds)\n",
    "plt.show()"
   ]
  },
  {
   "cell_type": "code",
   "execution_count": 74,
   "metadata": {},
   "outputs": [],
   "source": [
    "#Correlation with output variable\n",
    "cor_target = abs(cor[\"I_MILEAGE\"])"
   ]
  },
  {
   "cell_type": "code",
   "execution_count": 77,
   "metadata": {},
   "outputs": [
    {
     "data": {
      "text/plain": [
       "Month_IN_SERVICE     0.397054\n",
       "V_MODEL_YEAR_CODE    0.395269\n",
       "I_MILEAGE            1.000000\n",
       "Name: I_MILEAGE, dtype: float64"
      ]
     },
     "execution_count": 77,
     "metadata": {},
     "output_type": "execute_result"
    }
   ],
   "source": [
    "#Selecting highly correlated features after coverting categorical into numerical \n",
    "relevant_features = cor_target[cor_target>0.3]\n",
    "relevant_features"
   ]
  }
 ],
 "metadata": {
  "kernelspec": {
   "display_name": "Python 3",
   "language": "python",
   "name": "python3"
  },
  "language_info": {
   "codemirror_mode": {
    "name": "ipython",
    "version": 3
   },
   "file_extension": ".py",
   "mimetype": "text/x-python",
   "name": "python",
   "nbconvert_exporter": "python",
   "pygments_lexer": "ipython3",
   "version": "3.7.3"
  }
 },
 "nbformat": 4,
 "nbformat_minor": 2
}
