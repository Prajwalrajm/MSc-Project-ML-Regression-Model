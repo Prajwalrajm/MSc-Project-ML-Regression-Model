{
  "nbformat": 4,
  "nbformat_minor": 0,
  "metadata": {
    "colab": {
      "name": "XG_Boost.ipynb",
      "version": "0.3.2",
      "provenance": [],
      "include_colab_link": true
    },
    "kernelspec": {
      "name": "python3",
      "display_name": "Python 3"
    }
  },
  "cells": [
    {
      "cell_type": "markdown",
      "metadata": {
        "id": "view-in-github",
        "colab_type": "text"
      },
      "source": [
        "<a href=\"https://colab.research.google.com/github/Prajwalrajm/MSc-Project-ML-Regression-Model/blob/master/XG_Boost.ipynb\" target=\"_parent\"><img src=\"https://colab.research.google.com/assets/colab-badge.svg\" alt=\"Open In Colab\"/></a>"
      ]
    },
    {
      "cell_type": "markdown",
      "metadata": {
        "id": "bJe8aQPk4L50",
        "colab_type": "text"
      },
      "source": [
        "**Importing Pandas Library**"
      ]
    },
    {
      "cell_type": "code",
      "metadata": {
        "id": "x5O6zJRXoEJp",
        "colab_type": "code",
        "colab": {}
      },
      "source": [
        "import pandas as pd"
      ],
      "execution_count": 0,
      "outputs": []
    },
    {
      "cell_type": "markdown",
      "metadata": {
        "id": "bUleDXAW4Rtk",
        "colab_type": "text"
      },
      "source": [
        "**Mounting Google Drive to access data**"
      ]
    },
    {
      "cell_type": "code",
      "metadata": {
        "id": "LNLnPYyJoNDa",
        "colab_type": "code",
        "colab": {
          "base_uri": "https://localhost:8080/",
          "height": 34
        },
        "outputId": "9d72628b-3dbe-44e6-db32-d73b3eedf567"
      },
      "source": [
        "from google.colab import drive\n",
        "drive.mount('/content/drive')"
      ],
      "execution_count": 2,
      "outputs": [
        {
          "output_type": "stream",
          "text": [
            "Drive already mounted at /content/drive; to attempt to forcibly remount, call drive.mount(\"/content/drive\", force_remount=True).\n"
          ],
          "name": "stdout"
        }
      ]
    },
    {
      "cell_type": "markdown",
      "metadata": {
        "id": "vJyQFUWI4Tm9",
        "colab_type": "text"
      },
      "source": [
        "**Read data from Drive**"
      ]
    },
    {
      "cell_type": "code",
      "metadata": {
        "id": "TO7wj4bJoQgN",
        "colab_type": "code",
        "colab": {}
      },
      "source": [
        "xgboost =pd.read_csv('/content/drive/My Drive/Colab Notebooks/Mileage_data.csv')"
      ],
      "execution_count": 0,
      "outputs": []
    },
    {
      "cell_type": "code",
      "metadata": {
        "id": "J0SYrUDaoVpo",
        "colab_type": "code",
        "colab": {
          "base_uri": "https://localhost:8080/",
          "height": 34
        },
        "outputId": "120d2ae7-8f63-4862-ca25-e574fa981972"
      },
      "source": [
        "xgboost.shape"
      ],
      "execution_count": 4,
      "outputs": [
        {
          "output_type": "execute_result",
          "data": {
            "text/plain": [
              "(241310, 4)"
            ]
          },
          "metadata": {
            "tags": []
          },
          "execution_count": 4
        }
      ]
    },
    {
      "cell_type": "markdown",
      "metadata": {
        "id": "PnbsiaqU4dq9",
        "colab_type": "text"
      },
      "source": [
        "**Converting Categorical values in 'One Hot Encoding'**"
      ]
    },
    {
      "cell_type": "code",
      "metadata": {
        "id": "I8XCEVeUoYp-",
        "colab_type": "code",
        "colab": {}
      },
      "source": [
        "xgboost_onehot = pd.get_dummies(xgboost)"
      ],
      "execution_count": 0,
      "outputs": []
    },
    {
      "cell_type": "code",
      "metadata": {
        "id": "WeNuqjQ5o0Ix",
        "colab_type": "code",
        "colab": {
          "base_uri": "https://localhost:8080/",
          "height": 118
        },
        "outputId": "d2b4b27a-c901-4469-88ed-fbb60bdf69d9"
      },
      "source": [
        "xgboost_onehot.columns"
      ],
      "execution_count": 7,
      "outputs": [
        {
          "output_type": "execute_result",
          "data": {
            "text/plain": [
              "Index(['TIS', 'Model_year', 'mileage', 'model_line_C/2D', 'model_line_C/2H',\n",
              "       'model_line_C/2R', 'model_line_C/2Z', 'model_line_C/4N',\n",
              "       'model_line_T/3A', 'model_line_T/3B', 'model_line_T/3D',\n",
              "       'model_line_T/4A', 'model_line_T/LH', 'model_line_T/LK',\n",
              "       'model_line_T/LS', 'model_line_T/LX'],\n",
              "      dtype='object')"
            ]
          },
          "metadata": {
            "tags": []
          },
          "execution_count": 7
        }
      ]
    },
    {
      "cell_type": "markdown",
      "metadata": {
        "id": "ZkZjHB8-4lDI",
        "colab_type": "text"
      },
      "source": [
        "**Creating X and Y co-efficient**"
      ]
    },
    {
      "cell_type": "code",
      "metadata": {
        "id": "Q-ybFjljo34H",
        "colab_type": "code",
        "colab": {}
      },
      "source": [
        "X =  xgboost_onehot[['TIS', 'Model_year', 'model_line_C/2D', 'model_line_C/2H',\n",
        "       'model_line_C/2R', 'model_line_C/2Z', 'model_line_C/4N',\n",
        "       'model_line_T/3A', 'model_line_T/3B', 'model_line_T/3D',\n",
        "       'model_line_T/4A', 'model_line_T/LH', 'model_line_T/LK',\n",
        "       'model_line_T/LS', 'model_line_T/LX']].values\n",
        "y = xgboost_onehot['mileage'].values"
      ],
      "execution_count": 0,
      "outputs": []
    },
    {
      "cell_type": "markdown",
      "metadata": {
        "id": "dCAFN23a4m4m",
        "colab_type": "text"
      },
      "source": [
        "**Splitting dataset into train and test sets**"
      ]
    },
    {
      "cell_type": "code",
      "metadata": {
        "id": "sw8bY4V-pEbX",
        "colab_type": "code",
        "colab": {}
      },
      "source": [
        "#Splitting dataset into train and test sets\n",
        "from sklearn.model_selection import train_test_split \n",
        "X_train, X_test, y_train, y_test = train_test_split(X, y, test_size=0.2, random_state=0)"
      ],
      "execution_count": 0,
      "outputs": []
    },
    {
      "cell_type": "markdown",
      "metadata": {
        "id": "C7cI9Tvf4sKy",
        "colab_type": "text"
      },
      "source": [
        "**Model Section (XGBOOST) and Fit**"
      ]
    },
    {
      "cell_type": "code",
      "metadata": {
        "id": "J6v0H6c7pFzO",
        "colab_type": "code",
        "colab": {
          "base_uri": "https://localhost:8080/",
          "height": 168
        },
        "outputId": "34a7d02b-a520-462b-d4ad-891de0191df4"
      },
      "source": [
        "from sklearn import ensemble\n",
        "\n",
        "params = {'n_estimators': 600, 'max_depth': 4, 'min_samples_split': 2,\n",
        "          'learning_rate': 0.01, 'loss': 'ls'}\n",
        "clf = ensemble.GradientBoostingRegressor(**params)\n",
        "\n",
        "clf.fit(X_train,y_train)"
      ],
      "execution_count": 19,
      "outputs": [
        {
          "output_type": "execute_result",
          "data": {
            "text/plain": [
              "GradientBoostingRegressor(alpha=0.9, criterion='friedman_mse', init=None,\n",
              "                          learning_rate=0.01, loss='ls', max_depth=4,\n",
              "                          max_features=None, max_leaf_nodes=None,\n",
              "                          min_impurity_decrease=0.0, min_impurity_split=None,\n",
              "                          min_samples_leaf=1, min_samples_split=2,\n",
              "                          min_weight_fraction_leaf=0.0, n_estimators=600,\n",
              "                          n_iter_no_change=None, presort='auto',\n",
              "                          random_state=None, subsample=1.0, tol=0.0001,\n",
              "                          validation_fraction=0.1, verbose=0, warm_start=False)"
            ]
          },
          "metadata": {
            "tags": []
          },
          "execution_count": 19
        }
      ]
    },
    {
      "cell_type": "markdown",
      "metadata": {
        "id": "chA7EI7U4yJT",
        "colab_type": "text"
      },
      "source": [
        "**Prediction**"
      ]
    },
    {
      "cell_type": "code",
      "metadata": {
        "id": "Grv_lN6bqA-_",
        "colab_type": "code",
        "colab": {}
      },
      "source": [
        "y_pred_xgboost = clf.predict(X_test)"
      ],
      "execution_count": 0,
      "outputs": []
    },
    {
      "cell_type": "markdown",
      "metadata": {
        "id": "jRtXph6642Ey",
        "colab_type": "text"
      },
      "source": [
        "**Calculating 'Root Mean squeared Error'**"
      ]
    },
    {
      "cell_type": "code",
      "metadata": {
        "id": "G9nzTq2YqICP",
        "colab_type": "code",
        "colab": {
          "base_uri": "https://localhost:8080/",
          "height": 34
        },
        "outputId": "eb263929-cb8b-464d-e9cd-125e1ba11411"
      },
      "source": [
        "import numpy as np\n",
        "from sklearn.metrics import mean_squared_error\n",
        "mse = mean_squared_error(y_test, y_pred_xgboost)\n",
        "rmse = np.sqrt(mse)\n",
        "\n",
        "print(rmse)"
      ],
      "execution_count": 21,
      "outputs": [
        {
          "output_type": "stream",
          "text": [
            "4694.232671682608\n"
          ],
          "name": "stdout"
        }
      ]
    },
    {
      "cell_type": "code",
      "metadata": {
        "id": "QGu-BfOjqSLs",
        "colab_type": "code",
        "colab": {
          "base_uri": "https://localhost:8080/",
          "height": 283
        },
        "outputId": "0e7c5f79-cee1-4fed-e1da-811dff832fbe"
      },
      "source": [
        "import matplotlib.pyplot as plt\n",
        "fig, ax = plt.subplots()\n",
        "ax.scatter(y_test, y_pred_xgboost)\n",
        "ax.plot([y.min(), y.max()], [y.min(), y.max()], 'k--', lw=4)\n",
        "ax.set_xlabel('Actual')\n",
        "ax.set_ylabel('Predicted')\n",
        "plt.show()"
      ],
      "execution_count": 22,
      "outputs": [
        {
          "output_type": "display_data",
          "data": {
            "image/png": "[encoded data removed]",
            "text/plain": [
              "<Figure size 432x288 with 1 Axes>"
            ]
          },
          "metadata": {
            "tags": []
          }
        }
      ]
    },
    {
      "cell_type": "code",
      "metadata": {
        "id": "9CHbJBsdqd1b",
        "colab_type": "code",
        "colab": {}
      },
      "source": [
        "compare_xgboost_predict = pd.DataFrame({'Actual': y_test, 'Predicted': y_pred_xgboost})"
      ],
      "execution_count": 0,
      "outputs": []
    },
    {
      "cell_type": "code",
      "metadata": {
        "id": "bCiaDJSiqn18",
        "colab_type": "code",
        "colab": {
          "base_uri": "https://localhost:8080/",
          "height": 195
        },
        "outputId": "b527367e-b3f1-4888-fcec-da9f81892e2b"
      },
      "source": [
        "compare_xgboost_predict.head()"
      ],
      "execution_count": 24,
      "outputs": [
        {
          "output_type": "execute_result",
          "data": {
            "text/html": [
              "<div>\n",
              "<style scoped>\n",
              "    .dataframe tbody tr th:only-of-type {\n",
              "        vertical-align: middle;\n",
              "    }\n",
              "\n",
              "    .dataframe tbody tr th {\n",
              "        vertical-align: top;\n",
              "    }\n",
              "\n",
              "    .dataframe thead th {\n",
              "        text-align: right;\n",
              "    }\n",
              "</style>\n",
              "<table border=\"1\" class=\"dataframe\">\n",
              "  <thead>\n",
              "    <tr style=\"text-align: right;\">\n",
              "      <th></th>\n",
              "      <th>Actual</th>\n",
              "      <th>Predicted</th>\n",
              "    </tr>\n",
              "  </thead>\n",
              "  <tbody>\n",
              "    <tr>\n",
              "      <th>0</th>\n",
              "      <td>10398</td>\n",
              "      <td>10394.533544</td>\n",
              "    </tr>\n",
              "    <tr>\n",
              "      <th>1</th>\n",
              "      <td>17445</td>\n",
              "      <td>18531.686677</td>\n",
              "    </tr>\n",
              "    <tr>\n",
              "      <th>2</th>\n",
              "      <td>31471</td>\n",
              "      <td>35846.593611</td>\n",
              "    </tr>\n",
              "    <tr>\n",
              "      <th>3</th>\n",
              "      <td>19994</td>\n",
              "      <td>27004.045431</td>\n",
              "    </tr>\n",
              "    <tr>\n",
              "      <th>4</th>\n",
              "      <td>25977</td>\n",
              "      <td>28158.158392</td>\n",
              "    </tr>\n",
              "  </tbody>\n",
              "</table>\n",
              "</div>"
            ],
            "text/plain": [
              "   Actual     Predicted\n",
              "0   10398  10394.533544\n",
              "1   17445  18531.686677\n",
              "2   31471  35846.593611\n",
              "3   19994  27004.045431\n",
              "4   25977  28158.158392"
            ]
          },
          "metadata": {
            "tags": []
          },
          "execution_count": 24
        }
      ]
    }
  ]
}