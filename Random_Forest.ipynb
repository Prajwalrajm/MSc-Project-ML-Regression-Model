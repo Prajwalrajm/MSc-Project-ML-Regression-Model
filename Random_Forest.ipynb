{
  "nbformat": 4,
  "nbformat_minor": 0,
  "metadata": {
    "colab": {
      "name": "Random_Forest.ipynb",
      "version": "0.3.2",
      "provenance": [],
      "include_colab_link": true
    },
    "kernelspec": {
      "name": "python3",
      "display_name": "Python 3"
    },
    "accelerator": "GPU"
  },
  "cells": [
    {
      "cell_type": "markdown",
      "metadata": {
        "id": "view-in-github",
        "colab_type": "text"
      },
      "source": [
        "<a href=\"https://colab.research.google.com/github/Prajwalrajm/MSc-Project-ML-Regression-Model/blob/master/Random_Forest.ipynb\" target=\"_parent\"><img src=\"https://colab.research.google.com/assets/colab-badge.svg\" alt=\"Open In Colab\"/></a>"
      ]
    },
    {
      "cell_type": "markdown",
      "metadata": {
        "id": "IVFsQFl92_t0",
        "colab_type": "text"
      },
      "source": [
        "**Importing Pandas Library**"
      ]
    },
    {
      "cell_type": "code",
      "metadata": {
        "id": "jmCyQFiWcJA6",
        "colab_type": "code",
        "colab": {}
      },
      "source": [
        "import pandas as pd"
      ],
      "execution_count": 0,
      "outputs": []
    },
    {
      "cell_type": "markdown",
      "metadata": {
        "id": "BjqmJnlj3Hx8",
        "colab_type": "text"
      },
      "source": [
        "**Mounting Google Drive to access data**"
      ]
    },
    {
      "cell_type": "code",
      "metadata": {
        "id": "ZiK_PmJtcU27",
        "colab_type": "code",
        "colab": {
          "base_uri": "https://localhost:8080/",
          "height": 34
        },
        "outputId": "2a743b49-c860-4742-d42c-9269927b9931"
      },
      "source": [
        "from google.colab import drive\n",
        "drive.mount('/content/drive')"
      ],
      "execution_count": 4,
      "outputs": [
        {
          "output_type": "stream",
          "text": [
            "Drive already mounted at /content/drive; to attempt to forcibly remount, call drive.mount(\"/content/drive\", force_remount=True).\n"
          ],
          "name": "stdout"
        }
      ]
    },
    {
      "cell_type": "markdown",
      "metadata": {
        "id": "Hhm6Wzsg3Nv8",
        "colab_type": "text"
      },
      "source": [
        "**Read data from Drive**"
      ]
    },
    {
      "cell_type": "code",
      "metadata": {
        "id": "1_a1Kyg1c5Os",
        "colab_type": "code",
        "colab": {}
      },
      "source": [
        "Mileage_data =pd.read_csv('/content/drive/My Drive/Colab Notebooks/Mileage_data.csv')"
      ],
      "execution_count": 0,
      "outputs": []
    },
    {
      "cell_type": "code",
      "metadata": {
        "id": "H-CO9KRldA3J",
        "colab_type": "code",
        "colab": {
          "base_uri": "https://localhost:8080/",
          "height": 34
        },
        "outputId": "8986e2c3-7b5e-4b5b-c5cc-2d0ca2e0c77e"
      },
      "source": [
        "Mileage_data.shape"
      ],
      "execution_count": 6,
      "outputs": [
        {
          "output_type": "execute_result",
          "data": {
            "text/plain": [
              "(241310, 4)"
            ]
          },
          "metadata": {
            "tags": []
          },
          "execution_count": 6
        }
      ]
    },
    {
      "cell_type": "markdown",
      "metadata": {
        "id": "fCd08vzh3RWu",
        "colab_type": "text"
      },
      "source": [
        "**Converting Categorical values in 'One Hot Encoding'**"
      ]
    },
    {
      "cell_type": "code",
      "metadata": {
        "id": "wuFNxxz1dMmY",
        "colab_type": "code",
        "colab": {}
      },
      "source": [
        "onehot = pd.get_dummies(Mileage_data)"
      ],
      "execution_count": 0,
      "outputs": []
    },
    {
      "cell_type": "code",
      "metadata": {
        "id": "dEVNfAdVdUtT",
        "colab_type": "code",
        "colab": {
          "base_uri": "https://localhost:8080/",
          "height": 118
        },
        "outputId": "0ed5bdea-312b-4fee-a631-58eb1270fa96"
      },
      "source": [
        "onehot.columns"
      ],
      "execution_count": 8,
      "outputs": [
        {
          "output_type": "execute_result",
          "data": {
            "text/plain": [
              "Index(['TIS', 'Model_year', 'mileage', 'model_line_C/2D', 'model_line_C/2H',\n",
              "       'model_line_C/2R', 'model_line_C/2Z', 'model_line_C/4N',\n",
              "       'model_line_T/3A', 'model_line_T/3B', 'model_line_T/3D',\n",
              "       'model_line_T/4A', 'model_line_T/LH', 'model_line_T/LK',\n",
              "       'model_line_T/LS', 'model_line_T/LX'],\n",
              "      dtype='object')"
            ]
          },
          "metadata": {
            "tags": []
          },
          "execution_count": 8
        }
      ]
    },
    {
      "cell_type": "markdown",
      "metadata": {
        "id": "yOThJ20U3cVw",
        "colab_type": "text"
      },
      "source": [
        "**Creating X and Y co-efficient**"
      ]
    },
    {
      "cell_type": "code",
      "metadata": {
        "id": "NvozVsehdZ4-",
        "colab_type": "code",
        "colab": {}
      },
      "source": [
        "X =  onehot[['TIS', 'Model_year', 'model_line_C/2D', 'model_line_C/2H',\n",
        "       'model_line_C/2R', 'model_line_C/2Z', 'model_line_C/4N',\n",
        "       'model_line_T/3A', 'model_line_T/3B', 'model_line_T/3D',\n",
        "       'model_line_T/4A', 'model_line_T/LH', 'model_line_T/LK',\n",
        "       'model_line_T/LS', 'model_line_T/LX']].values\n",
        "y = onehot['mileage'].values"
      ],
      "execution_count": 0,
      "outputs": []
    },
    {
      "cell_type": "markdown",
      "metadata": {
        "id": "v1IfUm3R3ede",
        "colab_type": "text"
      },
      "source": [
        "Splitting dataset into train and test sets\n",
        "**Splitting dataset into train and test sets**"
      ]
    },
    {
      "cell_type": "code",
      "metadata": {
        "id": "ow_Rr7Zddr43",
        "colab_type": "code",
        "colab": {}
      },
      "source": [
        "#Splitting dataset into train and test sets\n",
        "from sklearn.model_selection import train_test_split \n",
        "X_train, X_test, y_train, y_test = train_test_split(X, y, test_size=0.2, random_state=0)"
      ],
      "execution_count": 0,
      "outputs": []
    },
    {
      "cell_type": "markdown",
      "metadata": {
        "id": "4GZaXpdi3h2l",
        "colab_type": "text"
      },
      "source": [
        "**Model Section (RandomForestRegressor) and Fit**"
      ]
    },
    {
      "cell_type": "code",
      "metadata": {
        "id": "gofODgoZdzWY",
        "colab_type": "code",
        "colab": {
          "base_uri": "https://localhost:8080/",
          "height": 134
        },
        "outputId": "c9c3b838-4d51-4814-d1b6-6fcac44fb522"
      },
      "source": [
        "from sklearn.ensemble import RandomForestRegressor\n",
        "rf = RandomForestRegressor(n_estimators = 700, max_depth= 4,random_state = 42)\n",
        "rf.fit(X_train,y_train)"
      ],
      "execution_count": 20,
      "outputs": [
        {
          "output_type": "execute_result",
          "data": {
            "text/plain": [
              "RandomForestRegressor(bootstrap=True, criterion='mse', max_depth=4,\n",
              "                      max_features='auto', max_leaf_nodes=None,\n",
              "                      min_impurity_decrease=0.0, min_impurity_split=None,\n",
              "                      min_samples_leaf=1, min_samples_split=2,\n",
              "                      min_weight_fraction_leaf=0.0, n_estimators=700,\n",
              "                      n_jobs=None, oob_score=False, random_state=42, verbose=0,\n",
              "                      warm_start=False)"
            ]
          },
          "metadata": {
            "tags": []
          },
          "execution_count": 20
        }
      ]
    },
    {
      "cell_type": "markdown",
      "metadata": {
        "id": "HxhzSybR3s45",
        "colab_type": "text"
      },
      "source": [
        "**Prediction**"
      ]
    },
    {
      "cell_type": "code",
      "metadata": {
        "id": "n4_DVmSOeT_i",
        "colab_type": "code",
        "colab": {}
      },
      "source": [
        "y_pred_rf = rf.predict(X_test)"
      ],
      "execution_count": 0,
      "outputs": []
    },
    {
      "cell_type": "markdown",
      "metadata": {
        "id": "Jjb_f81-3yK0",
        "colab_type": "text"
      },
      "source": [
        "**Calculating 'Root Mean squeared Error'**"
      ]
    },
    {
      "cell_type": "code",
      "metadata": {
        "id": "Fpg1Rgz0ebIL",
        "colab_type": "code",
        "colab": {
          "base_uri": "https://localhost:8080/",
          "height": 34
        },
        "outputId": "d171d2b4-123a-4d15-976b-5bc562412eb6"
      },
      "source": [
        "import numpy as np\n",
        "from sklearn.metrics import mean_squared_error\n",
        "mse = mean_squared_error(y_test, y_pred_rf)\n",
        "rmse = np.sqrt(mse)\n",
        "\n",
        "print(rmse)"
      ],
      "execution_count": 22,
      "outputs": [
        {
          "output_type": "stream",
          "text": [
            "5254.060204779626\n"
          ],
          "name": "stdout"
        }
      ]
    },
    {
      "cell_type": "markdown",
      "metadata": {
        "id": "Su6OP3K933pg",
        "colab_type": "text"
      },
      "source": [
        "**Created data set with actual and predicted value**"
      ]
    },
    {
      "cell_type": "code",
      "metadata": {
        "id": "KsUIGbcReq4N",
        "colab_type": "code",
        "colab": {}
      },
      "source": [
        "compare_rf_predict = pd.DataFrame({'Actual': y_test, 'Predicted': y_pred_rf})"
      ],
      "execution_count": 0,
      "outputs": []
    },
    {
      "cell_type": "code",
      "metadata": {
        "id": "z6E-N8hOezhO",
        "colab_type": "code",
        "colab": {
          "base_uri": "https://localhost:8080/",
          "height": 343
        },
        "outputId": "79abf26d-ccfb-4573-8e9a-e0ad9c986bc1"
      },
      "source": [
        "compare_rf_predict.head(10)"
      ],
      "execution_count": 24,
      "outputs": [
        {
          "output_type": "execute_result",
          "data": {
            "text/html": [
              "<div>\n",
              "<style scoped>\n",
              "    .dataframe tbody tr th:only-of-type {\n",
              "        vertical-align: middle;\n",
              "    }\n",
              "\n",
              "    .dataframe tbody tr th {\n",
              "        vertical-align: top;\n",
              "    }\n",
              "\n",
              "    .dataframe thead th {\n",
              "        text-align: right;\n",
              "    }\n",
              "</style>\n",
              "<table border=\"1\" class=\"dataframe\">\n",
              "  <thead>\n",
              "    <tr style=\"text-align: right;\">\n",
              "      <th></th>\n",
              "      <th>Actual</th>\n",
              "      <th>Predicted</th>\n",
              "    </tr>\n",
              "  </thead>\n",
              "  <tbody>\n",
              "    <tr>\n",
              "      <th>0</th>\n",
              "      <td>10398</td>\n",
              "      <td>10685.693254</td>\n",
              "    </tr>\n",
              "    <tr>\n",
              "      <th>1</th>\n",
              "      <td>17445</td>\n",
              "      <td>22137.870279</td>\n",
              "    </tr>\n",
              "    <tr>\n",
              "      <th>2</th>\n",
              "      <td>31471</td>\n",
              "      <td>35329.866343</td>\n",
              "    </tr>\n",
              "    <tr>\n",
              "      <th>3</th>\n",
              "      <td>19994</td>\n",
              "      <td>31464.040859</td>\n",
              "    </tr>\n",
              "    <tr>\n",
              "      <th>4</th>\n",
              "      <td>25977</td>\n",
              "      <td>31464.040859</td>\n",
              "    </tr>\n",
              "    <tr>\n",
              "      <th>5</th>\n",
              "      <td>24761</td>\n",
              "      <td>22259.721612</td>\n",
              "    </tr>\n",
              "    <tr>\n",
              "      <th>6</th>\n",
              "      <td>11249</td>\n",
              "      <td>10685.693254</td>\n",
              "    </tr>\n",
              "    <tr>\n",
              "      <th>7</th>\n",
              "      <td>26130</td>\n",
              "      <td>31453.400425</td>\n",
              "    </tr>\n",
              "    <tr>\n",
              "      <th>8</th>\n",
              "      <td>1090</td>\n",
              "      <td>862.415402</td>\n",
              "    </tr>\n",
              "    <tr>\n",
              "      <th>9</th>\n",
              "      <td>4030</td>\n",
              "      <td>5517.863446</td>\n",
              "    </tr>\n",
              "  </tbody>\n",
              "</table>\n",
              "</div>"
            ],
            "text/plain": [
              "   Actual     Predicted\n",
              "0   10398  10685.693254\n",
              "1   17445  22137.870279\n",
              "2   31471  35329.866343\n",
              "3   19994  31464.040859\n",
              "4   25977  31464.040859\n",
              "5   24761  22259.721612\n",
              "6   11249  10685.693254\n",
              "7   26130  31453.400425\n",
              "8    1090    862.415402\n",
              "9    4030   5517.863446"
            ]
          },
          "metadata": {
            "tags": []
          },
          "execution_count": 24
        }
      ]
    },
    {
      "cell_type": "code",
      "metadata": {
        "id": "Edpw7cIRfQa3",
        "colab_type": "code",
        "colab": {
          "base_uri": "https://localhost:8080/",
          "height": 283
        },
        "outputId": "3279bf3b-dc82-4ab0-ca07-790a4e863093"
      },
      "source": [
        "import matplotlib.pyplot as plt\n",
        "fig, ax = plt.subplots()\n",
        "ax.scatter(y_test, y_pred_rf)\n",
        "ax.plot([y.min(), y.max()], [y.min(), y.max()], 'k--', lw=4)\n",
        "ax.set_xlabel('Actual')\n",
        "ax.set_ylabel('Predicted')\n",
        "plt.show()"
      ],
      "execution_count": 16,
      "outputs": [
        {
          "output_type": "display_data",
          "data": {
            "image/png": "[encoded data removed]",
            "text/plain": [
              "<Figure size 432x288 with 1 Axes>"
            ]
          },
          "metadata": {
            "tags": []
          }
        }
      ]
    }
  ]
}