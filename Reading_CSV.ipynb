{
 "cells": [
  {
   "cell_type": "code",
   "execution_count": 3,
   "metadata": {},
   "outputs": [
    {
     "name": "stdout",
     "output_type": "stream",
     "text": [
      "data shape: (3947484, 8)\n"
     ]
    },
    {
     "data": {
      "text/html": [
       "<div>\n",
       "<style scoped>\n",
       "    .dataframe tbody tr th:only-of-type {\n",
       "        vertical-align: middle;\n",
       "    }\n",
       "\n",
       "    .dataframe tbody tr th {\n",
       "        vertical-align: top;\n",
       "    }\n",
       "\n",
       "    .dataframe thead th {\n",
       "        text-align: right;\n",
       "    }\n",
       "</style>\n",
       "<table border=\"1\" class=\"dataframe\">\n",
       "  <thead>\n",
       "    <tr style=\"text-align: right;\">\n",
       "      <th></th>\n",
       "      <th>Month_IN_SERVICE</th>\n",
       "      <th>V_MODEL_YEAR_CODE</th>\n",
       "      <th>V_VML_CODE</th>\n",
       "      <th>V_TRANSMISSION_CODE</th>\n",
       "      <th>V_ENGINE_CODE</th>\n",
       "      <th>V_BODY_STYLE_CODE</th>\n",
       "      <th>V_DRIVE_CODE</th>\n",
       "      <th>I_MILEAGE</th>\n",
       "    </tr>\n",
       "  </thead>\n",
       "  <tbody>\n",
       "    <tr>\n",
       "      <th>0</th>\n",
       "      <td>93</td>\n",
       "      <td>12</td>\n",
       "      <td>T/LS</td>\n",
       "      <td>VQ</td>\n",
       "      <td>Q1</td>\n",
       "      <td>ES</td>\n",
       "      <td>ALL</td>\n",
       "      <td>49057</td>\n",
       "    </tr>\n",
       "    <tr>\n",
       "      <th>1</th>\n",
       "      <td>90</td>\n",
       "      <td>12</td>\n",
       "      <td>T/LS</td>\n",
       "      <td>VQ</td>\n",
       "      <td>Q1</td>\n",
       "      <td>ES</td>\n",
       "      <td>ALL</td>\n",
       "      <td>32966</td>\n",
       "    </tr>\n",
       "    <tr>\n",
       "      <th>2</th>\n",
       "      <td>90</td>\n",
       "      <td>12</td>\n",
       "      <td>T/LS</td>\n",
       "      <td>VQ</td>\n",
       "      <td>Q1</td>\n",
       "      <td>ES</td>\n",
       "      <td>ALL</td>\n",
       "      <td>33835</td>\n",
       "    </tr>\n",
       "    <tr>\n",
       "      <th>3</th>\n",
       "      <td>93</td>\n",
       "      <td>11</td>\n",
       "      <td>T/LS</td>\n",
       "      <td>VQ</td>\n",
       "      <td>Q1</td>\n",
       "      <td>ES</td>\n",
       "      <td>ALL</td>\n",
       "      <td>45803</td>\n",
       "    </tr>\n",
       "    <tr>\n",
       "      <th>4</th>\n",
       "      <td>93</td>\n",
       "      <td>11</td>\n",
       "      <td>T/LS</td>\n",
       "      <td>VQ</td>\n",
       "      <td>Q1</td>\n",
       "      <td>ES</td>\n",
       "      <td>ALL</td>\n",
       "      <td>42122</td>\n",
       "    </tr>\n",
       "  </tbody>\n",
       "</table>\n",
       "</div>"
      ],
      "text/plain": [
       "   Month_IN_SERVICE  V_MODEL_YEAR_CODE V_VML_CODE V_TRANSMISSION_CODE  \\\n",
       "0                93                 12       T/LS                  VQ   \n",
       "1                90                 12       T/LS                  VQ   \n",
       "2                90                 12       T/LS                  VQ   \n",
       "3                93                 11       T/LS                  VQ   \n",
       "4                93                 11       T/LS                  VQ   \n",
       "\n",
       "  V_ENGINE_CODE V_BODY_STYLE_CODE V_DRIVE_CODE  I_MILEAGE  \n",
       "0            Q1                ES          ALL      49057  \n",
       "1            Q1                ES          ALL      32966  \n",
       "2            Q1                ES          ALL      33835  \n",
       "3            Q1                ES          ALL      45803  \n",
       "4            Q1                ES          ALL      42122  "
      ]
     },
     "execution_count": 3,
     "metadata": {},
     "output_type": "execute_result"
    }
   ],
   "source": [
    "import pandas as pd\n",
    "\n",
    "data = pd.read_csv(r\"C:\\Users\\Prajwalraj M\\Desktop\\VEHICLE_DATA.csv\")\n",
    "print('data shape:', data.shape)\n",
    "data.head()"
   ]
  },
  {
   "cell_type": "code",
   "execution_count": 4,
   "metadata": {},
   "outputs": [
    {
     "data": {
      "text/plain": [
       "Month_IN_SERVICE        int64\n",
       "V_MODEL_YEAR_CODE       int64\n",
       "V_VML_CODE             object\n",
       "V_TRANSMISSION_CODE    object\n",
       "V_ENGINE_CODE          object\n",
       "V_BODY_STYLE_CODE      object\n",
       "V_DRIVE_CODE           object\n",
       "I_MILEAGE               int64\n",
       "dtype: object"
      ]
     },
     "execution_count": 4,
     "metadata": {},
     "output_type": "execute_result"
    }
   ],
   "source": [
    "data.dtypes"
   ]
  }
 ],
 "metadata": {
  "kernelspec": {
   "display_name": "Python 3",
   "language": "python",
   "name": "python3"
  },
  "language_info": {
   "codemirror_mode": {
    "name": "ipython",
    "version": 3
   },
   "file_extension": ".py",
   "mimetype": "text/x-python",
   "name": "python",
   "nbconvert_exporter": "python",
   "pygments_lexer": "ipython3",
   "version": "3.7.3"
  }
 },
 "nbformat": 4,
 "nbformat_minor": 2
}
