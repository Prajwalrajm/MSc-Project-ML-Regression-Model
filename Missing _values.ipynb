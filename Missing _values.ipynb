{
 "cells": [
  {
   "cell_type": "code",
   "execution_count": 1,
   "metadata": {},
   "outputs": [],
   "source": [
    "#Import Pandas and BigQuery\n",
    "import pandas as pd\n",
    "from google.cloud import bigquery\n",
    "client =bigquery.Client()"
   ]
  },
  {
   "cell_type": "code",
   "execution_count": 3,
   "metadata": {},
   "outputs": [],
   "source": [
    " #Quering bigquery to access data and creating dataset\n",
    "query = '''SELECT * FROM `analytics-univ.vehicle.vehicle` \n",
    " '''\n",
    "vehicle =client.query(query).to_dataframe()"
   ]
  },
  {
   "cell_type": "code",
   "execution_count": 4,
   "metadata": {},
   "outputs": [
    {
     "data": {
      "text/plain": [
       "(426083, 9)"
      ]
     },
     "execution_count": 4,
     "metadata": {},
     "output_type": "execute_result"
    }
   ],
   "source": [
    "#Number of rows and columns in dataset\n",
    "vehicle.shape"
   ]
  },
  {
   "cell_type": "code",
   "execution_count": 5,
   "metadata": {},
   "outputs": [
    {
     "data": {
      "text/plain": [
       "Index(['TIS', 'Model_year', 'model_line', 'transmission', 'engine',\n",
       "       'body_style', 'country', 'drive', 'mileage'],\n",
       "      dtype='object')"
      ]
     },
     "execution_count": 5,
     "metadata": {},
     "output_type": "execute_result"
    }
   ],
   "source": [
    "#column name in dataset\n",
    "vehicle.columns"
   ]
  },
  {
   "cell_type": "code",
   "execution_count": 7,
   "metadata": {},
   "outputs": [
    {
     "name": "stdout",
     "output_type": "stream",
     "text": [
      "<class 'pandas.core.frame.DataFrame'>\n",
      "RangeIndex: 426083 entries, 0 to 426082\n",
      "Data columns (total 9 columns):\n",
      "TIS             426083 non-null int64\n",
      "Model_year      426083 non-null int64\n",
      "model_line      426083 non-null object\n",
      "transmission    426083 non-null object\n",
      "engine          426083 non-null object\n",
      "body_style      426083 non-null object\n",
      "country         426083 non-null object\n",
      "drive           426083 non-null object\n",
      "mileage         426083 non-null int64\n",
      "dtypes: int64(3), object(6)\n",
      "memory usage: 29.3+ MB\n"
     ]
    }
   ],
   "source": [
    "#No of entries vs no of non-null observation\n",
    "vehicle.info()"
   ]
  },
  {
   "cell_type": "code",
   "execution_count": 8,
   "metadata": {},
   "outputs": [
    {
     "data": {
      "text/html": [
       "<div>\n",
       "<style scoped>\n",
       "    .dataframe tbody tr th:only-of-type {\n",
       "        vertical-align: middle;\n",
       "    }\n",
       "\n",
       "    .dataframe tbody tr th {\n",
       "        vertical-align: top;\n",
       "    }\n",
       "\n",
       "    .dataframe thead th {\n",
       "        text-align: right;\n",
       "    }\n",
       "</style>\n",
       "<table border=\"1\" class=\"dataframe\">\n",
       "  <thead>\n",
       "    <tr style=\"text-align: right;\">\n",
       "      <th></th>\n",
       "      <th>TIS</th>\n",
       "      <th>Model_year</th>\n",
       "      <th>mileage</th>\n",
       "    </tr>\n",
       "  </thead>\n",
       "  <tbody>\n",
       "    <tr>\n",
       "      <th>count</th>\n",
       "      <td>426083.000000</td>\n",
       "      <td>426083.000000</td>\n",
       "      <td>426083.000000</td>\n",
       "    </tr>\n",
       "    <tr>\n",
       "      <th>mean</th>\n",
       "      <td>24.425246</td>\n",
       "      <td>16.700847</td>\n",
       "      <td>22512.754475</td>\n",
       "    </tr>\n",
       "    <tr>\n",
       "      <th>std</th>\n",
       "      <td>12.145423</td>\n",
       "      <td>1.082950</td>\n",
       "      <td>15963.143778</td>\n",
       "    </tr>\n",
       "    <tr>\n",
       "      <th>min</th>\n",
       "      <td>-1.000000</td>\n",
       "      <td>12.000000</td>\n",
       "      <td>1.000000</td>\n",
       "    </tr>\n",
       "    <tr>\n",
       "      <th>25%</th>\n",
       "      <td>15.000000</td>\n",
       "      <td>16.000000</td>\n",
       "      <td>10890.000000</td>\n",
       "    </tr>\n",
       "    <tr>\n",
       "      <th>50%</th>\n",
       "      <td>26.000000</td>\n",
       "      <td>17.000000</td>\n",
       "      <td>20517.000000</td>\n",
       "    </tr>\n",
       "    <tr>\n",
       "      <th>75%</th>\n",
       "      <td>34.000000</td>\n",
       "      <td>17.000000</td>\n",
       "      <td>32315.000000</td>\n",
       "    </tr>\n",
       "    <tr>\n",
       "      <th>max</th>\n",
       "      <td>63.000000</td>\n",
       "      <td>20.000000</td>\n",
       "      <td>785298.000000</td>\n",
       "    </tr>\n",
       "  </tbody>\n",
       "</table>\n",
       "</div>"
      ],
      "text/plain": [
       "                 TIS     Model_year        mileage\n",
       "count  426083.000000  426083.000000  426083.000000\n",
       "mean       24.425246      16.700847   22512.754475\n",
       "std        12.145423       1.082950   15963.143778\n",
       "min        -1.000000      12.000000       1.000000\n",
       "25%        15.000000      16.000000   10890.000000\n",
       "50%        26.000000      17.000000   20517.000000\n",
       "75%        34.000000      17.000000   32315.000000\n",
       "max        63.000000      20.000000  785298.000000"
      ]
     },
     "execution_count": 8,
     "metadata": {},
     "output_type": "execute_result"
    }
   ],
   "source": [
    "#Statistical summary of numerical variables/features \n",
    "vehicle.describe()"
   ]
  },
  {
   "cell_type": "code",
   "execution_count": 9,
   "metadata": {},
   "outputs": [
    {
     "data": {
      "text/plain": [
       "TIS             0\n",
       "Model_year      0\n",
       "model_line      0\n",
       "transmission    0\n",
       "engine          0\n",
       "body_style      0\n",
       "country         0\n",
       "drive           0\n",
       "mileage         0\n",
       "dtype: int64"
      ]
     },
     "execution_count": 9,
     "metadata": {},
     "output_type": "execute_result"
    }
   ],
   "source": [
    "#Finiding missing values for all features\n",
    "vehicle.isnull().sum()"
   ]
  },
  {
   "cell_type": "code",
   "execution_count": 11,
   "metadata": {},
   "outputs": [
    {
     "data": {
      "text/plain": [
       "TIS             426083\n",
       "Model_year      426083\n",
       "model_line      426083\n",
       "transmission    426083\n",
       "engine          426083\n",
       "body_style      426083\n",
       "country         426083\n",
       "drive           426083\n",
       "mileage         426083\n",
       "dtype: int64"
      ]
     },
     "execution_count": 11,
     "metadata": {},
     "output_type": "execute_result"
    }
   ],
   "source": [
    "vehicle.notnull().sum()"
   ]
  }
 ],
 "metadata": {
  "kernelspec": {
   "display_name": "Python 3",
   "language": "python",
   "name": "python3"
  },
  "language_info": {
   "codemirror_mode": {
    "name": "ipython",
    "version": 3
   },
   "file_extension": ".py",
   "mimetype": "text/x-python",
   "name": "python",
   "nbconvert_exporter": "python",
   "pygments_lexer": "ipython3",
   "version": "3.5.3"
  }
 },
 "nbformat": 4,
 "nbformat_minor": 2
}
